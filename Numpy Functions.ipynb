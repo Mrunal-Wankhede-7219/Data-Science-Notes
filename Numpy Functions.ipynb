{
 "cells": [
  {
   "cell_type": "markdown",
   "id": "71b80470",
   "metadata": {},
   "source": [
    "- empty()\n",
    "- full()\n",
    "- zeros()\n",
    "- ones()\n",
    "- full()\n",
    "- asarray()\n",
    "- linspace()\n",
    "- \n",
    "- fromiter()\n",
    "- arnage()\n",
    "- ndim()\n",
    "- size()\n",
    "- any()\n",
    "- all()\n",
    "- isin()\n",
    "- in()\n",
    "- delete()\n",
    "- ~\n",
    "- isnan()\n",
    "- isfinite()\n",
    "- squeeze()\n",
    "- nditer()\n",
    "- where()\n",
    "- count()\n",
    "- argmax()\n",
    "- unique()\n",
    "- meshgrid\n",
    "- stack()\n",
    "- pad()\n",
    "- array_equal()\n",
    "- "
   ]
  },
  {
   "cell_type": "code",
   "execution_count": null,
   "id": "07721f11",
   "metadata": {},
   "outputs": [],
   "source": []
  }
 ],
 "metadata": {
  "kernelspec": {
   "display_name": "Python 3 (ipykernel)",
   "language": "python",
   "name": "python3"
  },
  "language_info": {
   "codemirror_mode": {
    "name": "ipython",
    "version": 3
   },
   "file_extension": ".py",
   "mimetype": "text/x-python",
   "name": "python",
   "nbconvert_exporter": "python",
   "pygments_lexer": "ipython3",
   "version": "3.10.9"
  }
 },
 "nbformat": 4,
 "nbformat_minor": 5
}
